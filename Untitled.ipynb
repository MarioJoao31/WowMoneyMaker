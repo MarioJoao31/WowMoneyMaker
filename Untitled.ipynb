{
 "cells": [
  {
   "cell_type": "markdown",
   "id": "cfd162f7-b43d-4234-a5f3-990fda084c86",
   "metadata": {},
   "source": [
    "# Preto escravo"
   ]
  },
  {
   "cell_type": "code",
   "execution_count": 13,
   "id": "c73aef0a-2bfa-4184-8f66-1805bc98bbd4",
   "metadata": {},
   "outputs": [
    {
     "ename": "ModuleNotFoundError",
     "evalue": "No module named 'pygetwindow'",
     "output_type": "error",
     "traceback": [
      "\u001b[1;31m---------------------------------------------------------------------------\u001b[0m",
      "\u001b[1;31mModuleNotFoundError\u001b[0m                       Traceback (most recent call last)",
      "Cell \u001b[1;32mIn[13], line 3\u001b[0m\n\u001b[0;32m      1\u001b[0m \u001b[38;5;28;01mimport\u001b[39;00m \u001b[38;5;21;01mtime\u001b[39;00m\n\u001b[0;32m      2\u001b[0m \u001b[38;5;28;01mfrom\u001b[39;00m \u001b[38;5;21;01mpynput\u001b[39;00m\u001b[38;5;21;01m.\u001b[39;00m\u001b[38;5;21;01mkeyboard\u001b[39;00m \u001b[38;5;28;01mimport\u001b[39;00m Key, Controller\n\u001b[1;32m----> 3\u001b[0m \u001b[38;5;28;01mimport\u001b[39;00m \u001b[38;5;21;01mpygetwindow\u001b[39;00m \u001b[38;5;28;01mas\u001b[39;00m \u001b[38;5;21;01mgw\u001b[39;00m\n\u001b[0;32m      4\u001b[0m \u001b[38;5;28;01mimport\u001b[39;00m \u001b[38;5;21;01mwin32gui\u001b[39;00m\n\u001b[0;32m      5\u001b[0m \u001b[38;5;28;01mimport\u001b[39;00m \u001b[38;5;21;01mwin32con\u001b[39;00m\n",
      "\u001b[1;31mModuleNotFoundError\u001b[0m: No module named 'pygetwindow'"
     ]
    }
   ],
   "source": [
    "import time\n",
    "from pynput.keyboard import Key, Controller\n",
    "import pygetwindow as gw\n",
    "import win32gui\n",
    "import win32con\n",
    "\n",
    "# Initialize the keyboard controller\n",
    "keyboard = Controller()\n",
    "\n",
    "def focus_game_window(window_title=\"World of Warcraft\"):\n",
    "    \"\"\"\n",
    "    Focuses on the specified game window by title.\n",
    "    \"\"\"\n",
    "    try:\n",
    "        # Find the window\n",
    "        game_window = None\n",
    "        for window in gw.getAllTitles():\n",
    "            if window_title.lower() in window.lower():\n",
    "                game_window = window\n",
    "                break\n",
    "\n",
    "        if not game_window:\n",
    "            print(f\"Window with title '{window_title}' not found!\")\n",
    "            return False\n",
    "\n",
    "        # Get the window handle\n",
    "        hwnd = win32gui.FindWindow(None, game_window)\n",
    "\n",
    "        # Bring the window to the foreground\n",
    "        win32gui.ShowWindow(hwnd, win32con.SW_RESTORE)  # Restore if minimized\n",
    "        win32gui.SetForegroundWindow(hwnd)  # Focus on the window\n",
    "        print(f\"Focused on window: {game_window}\")\n",
    "        return True\n",
    "\n",
    "    except Exception as e:\n",
    "        print(f\"Error focusing on window: {e}\")\n",
    "        return False\n",
    "\n",
    "def move_forward(duration):\n",
    "    \"\"\"\n",
    "    Simulates holding down the 'W' key to move forward in the game.\n",
    "    \"\"\"\n",
    "    keyboard.press('w')\n",
    "    time.sleep(duration)\n",
    "    keyboard.release('w')\n",
    "\n",
    "# Main execution\n",
    "if __name__ == \"__main__\":\n",
    "    # Focus the game window\n",
    "    if focus_game_window():\n",
    "        # Move forward for 3 seconds\n",
    "        time.sleep(1)  # Allow time to ensure the game is focused\n",
    "        move_forward(3)\n"
   ]
  },
  {
   "cell_type": "code",
   "execution_count": 12,
   "id": "aef70ed6-5b04-4a61-8b20-691b783cc7db",
   "metadata": {},
   "outputs": [
    {
     "name": "stdout",
     "output_type": "stream",
     "text": [
      "^C\n"
     ]
    }
   ],
   "source": [
    "!conda install conda-forge::pygetwindow"
   ]
  },
  {
   "cell_type": "code",
   "execution_count": null,
   "id": "c42ce12c-fe0e-4efd-abcb-ae360fc2be6b",
   "metadata": {},
   "outputs": [],
   "source": []
  }
 ],
 "metadata": {
  "kernelspec": {
   "display_name": "Python [conda env:base] *",
   "language": "python",
   "name": "conda-base-py"
  },
  "language_info": {
   "codemirror_mode": {
    "name": "ipython",
    "version": 3
   },
   "file_extension": ".py",
   "mimetype": "text/x-python",
   "name": "python",
   "nbconvert_exporter": "python",
   "pygments_lexer": "ipython3",
   "version": "3.12.7"
  }
 },
 "nbformat": 4,
 "nbformat_minor": 5
}
